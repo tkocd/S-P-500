{
 "cells": [
  {
   "cell_type": "code",
   "execution_count": 25,
   "metadata": {},
   "outputs": [
    {
     "name": "stdout",
     "output_type": "stream",
     "text": [
      "                            OLS Regression Results                            \n",
      "==============================================================================\n",
      "Dep. Variable:                    S&P   R-squared:                       0.018\n",
      "Model:                            OLS   Adj. R-squared:                  0.015\n",
      "Method:                 Least Squares   F-statistic:                     6.344\n",
      "Date:                Mon, 20 May 2024   Prob (F-statistic):             0.0122\n",
      "Time:                        16:20:41   Log-Likelihood:                -1007.4\n",
      "No. Observations:                 348   AIC:                             2019.\n",
      "Df Residuals:                     346   BIC:                             2026.\n",
      "Df Model:                           1                                         \n",
      "Covariance Type:            nonrobust                                         \n",
      "==============================================================================\n",
      "                 coef    std err          t      P>|t|      [0.025      0.975]\n",
      "------------------------------------------------------------------------------\n",
      "const          1.6774      0.429      3.909      0.000       0.833       2.521\n",
      "CPI           -0.3574      0.142     -2.519      0.012      -0.637      -0.078\n",
      "==============================================================================\n",
      "Omnibus:                       25.868   Durbin-Watson:                   2.012\n",
      "Prob(Omnibus):                  0.000   Jarque-Bera (JB):               33.363\n",
      "Skew:                          -0.578   Prob(JB):                     5.69e-08\n",
      "Kurtosis:                       3.981   Cond. No.                         5.95\n",
      "==============================================================================\n",
      "\n",
      "Notes:\n",
      "[1] Standard Errors assume that the covariance matrix of the errors is correctly specified.\n"
     ]
    }
   ],
   "source": [
    "import pandas as pd\n",
    "import statsmodels.api as sm\n",
    "\n",
    "inflation_data = pd.read_excel('C:\\\\Users\\\\tolga\\\\Trading Bot\\\\Excel\\\\inflation_data.xlsx')\n",
    "s_and_p_data = pd.read_excel('C:\\\\Users\\\\tolga\\\\Trading Bot\\\\Excel\\\\sandp_data.xlsx')\n",
    "data = pd.merge(inflation_data, s_and_p_data, on='Date')\n",
    "\n",
    "X = data['CPI']\n",
    "Y = data['S&P']\n",
    "\n",
    "X1 = sm.add_constant(X)\n",
    "model = sm.OLS(Y, X1).fit()\n",
    "print(model.summary())\n",
    "#explain these results = https://www.statsmodels.org/stable/regression.html"
   ]
  },
  {
   "cell_type": "code",
   "execution_count": null,
   "metadata": {},
   "outputs": [],
   "source": []
  }
 ],
 "metadata": {
  "kernelspec": {
   "display_name": "Python 3",
   "language": "python",
   "name": "python3"
  },
  "language_info": {
   "codemirror_mode": {
    "name": "ipython",
    "version": 3
   },
   "file_extension": ".py",
   "mimetype": "text/x-python",
   "name": "python",
   "nbconvert_exporter": "python",
   "pygments_lexer": "ipython3",
   "version": "3.12.1"
  }
 },
 "nbformat": 4,
 "nbformat_minor": 2
}
