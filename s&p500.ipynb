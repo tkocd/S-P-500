{
 "cells": [
  {
   "cell_type": "code",
   "execution_count": 25,
   "metadata": {},
   "outputs": [
    {
     "name": "stdout",
     "output_type": "stream",
     "text": [
      "                            OLS Regression Results                            \n",
      "==============================================================================\n",
      "Dep. Variable:                    S&P   R-squared:                       0.018\n",
      "Model:                            OLS   Adj. R-squared:                  0.015\n",
      "Method:                 Least Squares   F-statistic:                     6.344\n",
      "Date:                Mon, 20 May 2024   Prob (F-statistic):             0.0122\n",
      "Time:                        16:20:41   Log-Likelihood:                -1007.4\n",
      "No. Observations:                 348   AIC:                             2019.\n",
      "Df Residuals:                     346   BIC:                             2026.\n",
      "Df Model:                           1                                         \n",
      "Covariance Type:            nonrobust                                         \n",
      "==============================================================================\n",
      "                 coef    std err          t      P>|t|      [0.025      0.975]\n",
      "------------------------------------------------------------------------------\n",
      "const          1.6774      0.429      3.909      0.000       0.833       2.521\n",
      "CPI           -0.3574      0.142     -2.519      0.012      -0.637      -0.078\n",
      "==============================================================================\n",
      "Omnibus:                       25.868   Durbin-Watson:                   2.012\n",
      "Prob(Omnibus):                  0.000   Jarque-Bera (JB):               33.363\n",
      "Skew:                          -0.578   Prob(JB):                     5.69e-08\n",
      "Kurtosis:                       3.981   Cond. No.                         5.95\n",
      "==============================================================================\n",
      "\n",
      "Notes:\n",
      "[1] Standard Errors assume that the covariance matrix of the errors is correctly specified.\n"
     ]
    }
   ],
   "source": [
    "import pandas as pd\n",
    "import statsmodels.api as sm\n",
    "\n",
    "inflation_data = pd.read_excel('C:\\\\Users\\\\tolga\\\\Trading Bot\\\\Excel\\\\inflation_data.xlsx')\n",
    "s_and_p_data = pd.read_excel('C:\\\\Users\\\\tolga\\\\Trading Bot\\\\Excel\\\\sandp_data.xlsx')\n",
    "data = pd.merge(inflation_data, s_and_p_data, on='Date')\n",
    "\n",
    "X = data['CPI']\n",
    "Y = data['S&P']\n",
    "\n",
    "X1 = sm.add_constant(X)\n",
    "model = sm.OLS(Y, X1).fit()\n",
    "print(model.summary())\n",
    "#explain these results = https://www.statsmodels.org/stable/regression.html"
   ]
  },
  {
   "cell_type": "code",
   "execution_count": 14,
   "metadata": {},
   "outputs": [
    {
     "name": "stdout",
     "output_type": "stream",
     "text": [
      "                            OLS Regression Results                            \n",
      "==============================================================================\n",
      "Dep. Variable:                  sp500   R-squared:                       0.017\n",
      "Model:                            OLS   Adj. R-squared:                  0.009\n",
      "Method:                 Least Squares   F-statistic:                     2.019\n",
      "Date:                Tue, 21 May 2024   Prob (F-statistic):              0.158\n",
      "Time:                        20:57:19   Log-Likelihood:                -281.08\n",
      "No. Observations:                 116   AIC:                             566.2\n",
      "Df Residuals:                     114   BIC:                             571.7\n",
      "Df Model:                           1                                         \n",
      "Covariance Type:            nonrobust                                         \n",
      "==============================================================================\n",
      "                 coef    std err          t      P>|t|      [0.025      0.975]\n",
      "------------------------------------------------------------------------------\n",
      "const          0.4513      0.342      1.321      0.189      -0.225       1.128\n",
      "Gdp_Growth     0.0670      0.047      1.421      0.158      -0.026       0.161\n",
      "==============================================================================\n",
      "Omnibus:                        9.154   Durbin-Watson:                   2.077\n",
      "Prob(Omnibus):                  0.010   Jarque-Bera (JB):                9.247\n",
      "Skew:                          -0.573   Prob(JB):                      0.00982\n",
      "Kurtosis:                       3.774   Cond. No.                         9.76\n",
      "==============================================================================\n",
      "\n",
      "Notes:\n",
      "[1] Standard Errors assume that the covariance matrix of the errors is correctly specified.\n"
     ]
    }
   ],
   "source": [
    "import pandas as pd\n",
    "import statsmodels.api as sm\n",
    "\n",
    "Gdp_Growth = pd.read_excel('C:\\\\Users\\\\tolga\\\\Trading Bot\\\\Excel\\\\gdp_gr.xlsx', parse_dates=['Date'])\n",
    "sp500 = pd.read_excel('C:\\\\Users\\\\tolga\\\\Trading Bot\\\\Excel\\\\sp_q.xlsx', parse_dates=['Date'])\n",
    "data = pd.merge(Gdp_Growth, sp500, on='Date')\n",
    "\n",
    "X = data['Gdp_Growth']\n",
    "Y = data['sp500']\n",
    "\n",
    "X1 = sm.add_constant(X)\n",
    "model = sm.OLS(Y, X1).fit()\n",
    "print(model.summary())\n"
   ]
  },
  {
   "cell_type": "code",
   "execution_count": 11,
   "metadata": {},
   "outputs": [
    {
     "name": "stdout",
     "output_type": "stream",
     "text": [
      "                            OLS Regression Results                            \n",
      "==============================================================================\n",
      "Dep. Variable:                  sp500   R-squared:                       0.025\n",
      "Model:                            OLS   Adj. R-squared:                  0.008\n",
      "Method:                 Least Squares   F-statistic:                     1.435\n",
      "Date:                Tue, 21 May 2024   Prob (F-statistic):              0.243\n",
      "Time:                        20:46:50   Log-Likelihood:                -280.64\n",
      "No. Observations:                 116   AIC:                             567.3\n",
      "Df Residuals:                     113   BIC:                             575.5\n",
      "Df Model:                           2                                         \n",
      "Covariance Type:            nonrobust                                         \n",
      "==============================================================================\n",
      "                 coef    std err          t      P>|t|      [0.025      0.975]\n",
      "------------------------------------------------------------------------------\n",
      "const          0.5953      0.376      1.584      0.116      -0.149       1.340\n",
      "Gdp_Growth     0.0848      0.051      1.663      0.099      -0.016       0.186\n",
      "CPI           -0.3672      0.398     -0.924      0.358      -1.155       0.421\n",
      "==============================================================================\n",
      "Omnibus:                       11.991   Durbin-Watson:                   2.107\n",
      "Prob(Omnibus):                  0.002   Jarque-Bera (JB):               13.723\n",
      "Skew:                          -0.633   Prob(JB):                      0.00105\n",
      "Kurtosis:                       4.113   Cond. No.                         13.1\n",
      "==============================================================================\n",
      "\n",
      "Notes:\n",
      "[1] Standard Errors assume that the covariance matrix of the errors is correctly specified.\n"
     ]
    }
   ],
   "source": [
    "import pandas as pd\n",
    "import statsmodels.api as sm\n",
    "\n",
    "# First, we load our data with reading method.\n",
    "sp500 = pd.read_excel('C:\\\\Users\\\\tolga\\\\Trading Bot\\\\Excel\\\\sp_q.xlsx', parse_dates=['Date'])\n",
    "Gdp_Growth = pd.read_excel('C:\\\\Users\\\\tolga\\\\Trading Bot\\\\Excel\\\\gdp_gr.xlsx', parse_dates=['Date'])\n",
    "CPI = pd.read_excel('C:\\\\Users\\\\tolga\\\\Trading Bot\\\\Excel\\\\quarterly_inflation_data.xlsx', parse_dates=['Date'])\n",
    "\n",
    "# Then we ensure that the data is sorted by date\n",
    "sp500.sort_values('Date', inplace=True)\n",
    "Gdp_Growth.sort_values('Date', inplace=True)\n",
    "CPI.sort_values('Date', inplace=True)\n",
    "\n",
    "# Merge the datasets on the 'Date' column\n",
    "merged_data = pd.merge(sp500, Gdp_Growth, on='Date', how='inner')\n",
    "merged_data = pd.merge(merged_data, CPI, on='Date', how='inner')\n",
    "\n",
    "# Use the correct column names for Y and X\n",
    "Y_column_name = 'sp500'  # Adjust if different in merged_data\n",
    "Gdp_Growth_column_name = 'Gdp_Growth'  # Adjust if different in merged_data\n",
    "CPI_column_name = 'CPI'  # Adjust if different in merged_data\n",
    "\n",
    "Y = merged_data[Y_column_name]\n",
    "X = merged_data[[Gdp_Growth_column_name, CPI_column_name]]\n",
    "X = sm.add_constant(X)\n",
    "model = sm.OLS(Y, X).fit()\n",
    "print(model.summary())\n"
   ]
  }
 ],
 "metadata": {
  "kernelspec": {
   "display_name": "Python 3",
   "language": "python",
   "name": "python3"
  },
  "language_info": {
   "codemirror_mode": {
    "name": "ipython",
    "version": 3
   },
   "file_extension": ".py",
   "mimetype": "text/x-python",
   "name": "python",
   "nbconvert_exporter": "python",
   "pygments_lexer": "ipython3",
   "version": "3.12.1"
  }
 },
 "nbformat": 4,
 "nbformat_minor": 2
}
